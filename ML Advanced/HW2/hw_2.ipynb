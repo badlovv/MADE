{
 "cells": [
  {
   "cell_type": "code",
   "execution_count": 2,
   "metadata": {},
   "outputs": [],
   "source": [
    "import pickle\n",
    "import json\n",
    "import pandas as pd\n",
    "import numpy as np\n",
    "\n",
    "import seaborn as sns\n",
    "import matplotlib.pyplot as plt\n",
    "\n"
   ]
  },
  {
   "cell_type": "code",
   "execution_count": 3,
   "metadata": {},
   "outputs": [],
   "source": [
    "results = pickle.load(open('chgk/results.pkl', 'rb'))\n",
    "\n",
    "tournaments = pickle.load(open('chgk/tournaments.pkl', 'rb'))\n",
    "players = pickle.load(open('chgk/players.pkl', 'rb'))\n"
   ]
  },
  {
   "cell_type": "code",
   "execution_count": 42,
   "metadata": {},
   "outputs": [],
   "source": [
    "tournaments_2019 = dict()\n",
    "tournaments_2020 = dict()\n",
    "\n",
    "for t in tournaments:\n",
    "    if tournaments[t]['dateStart'][:4] == '2019':\n",
    "        tournaments_2019[t] = tournaments[t]\n",
    "    elif tournaments[t]['dateStart'][:4] == '2020':\n",
    "        tournaments_2020[t] = tournaments[t]\n",
    "#     print(tournaments[t]['id'], tournaments[t]['dateStart'])"
   ]
  },
  {
   "cell_type": "code",
   "execution_count": 44,
   "metadata": {},
   "outputs": [
    {
     "data": {
      "text/plain": [
       "{'id': 4772,\n",
       " 'name': 'Синхрон северных стран. Зимний выпуск',\n",
       " 'dateStart': '2019-01-05T19:00:00+03:00',\n",
       " 'dateEnd': '2019-01-09T19:00:00+03:00',\n",
       " 'type': {'id': 3, 'name': 'Синхрон'},\n",
       " 'season': '/seasons/52',\n",
       " 'orgcommittee': [{'id': 28379,\n",
       "   'name': 'Константин',\n",
       "   'patronymic': 'Владимирович',\n",
       "   'surname': 'Сахаров'}],\n",
       " 'synchData': {'dateRequestsAllowedTo': '2019-01-09T23:59:59+03:00',\n",
       "  'resultFixesTo': '2019-01-19T23:59:59+03:00',\n",
       "  'resultsRecapsTo': '2019-01-11T23:59:59+03:00',\n",
       "  'allowAppealCancel': True,\n",
       "  'allowNarratorErrorAppeal': False,\n",
       "  'dateArchivedAt': '2019-01-26T23:59:59+03:00',\n",
       "  'dateDownloadQuestionsFrom': '2019-01-04T00:00:00+03:00',\n",
       "  'dateDownloadQuestionsTo': '2019-01-09T19:00:00+03:00',\n",
       "  'hideQuestionsTo': '2019-01-09T23:59:59+03:00',\n",
       "  'hideResultsTo': '2019-01-09T23:59:59+03:00',\n",
       "  'allVerdictsDone': None,\n",
       "  'instantControversial': True},\n",
       " 'questionQty': {'1': 12, '2': 12, '3': 12}}"
      ]
     },
     "execution_count": 44,
     "metadata": {},
     "output_type": "execute_result"
    }
   ],
   "source": [
    "tournaments_2019[4772]"
   ]
  }
 ],
 "metadata": {
  "kernelspec": {
   "display_name": "Python 3",
   "language": "python",
   "name": "python3"
  },
  "language_info": {
   "codemirror_mode": {
    "name": "ipython",
    "version": 3
   },
   "file_extension": ".py",
   "mimetype": "text/x-python",
   "name": "python",
   "nbconvert_exporter": "python",
   "pygments_lexer": "ipython3",
   "version": "3.8.3"
  }
 },
 "nbformat": 4,
 "nbformat_minor": 5
}
